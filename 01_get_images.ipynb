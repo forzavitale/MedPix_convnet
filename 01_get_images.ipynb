{
 "cells": [
  {
   "cell_type": "code",
   "execution_count": 1,
   "metadata": {
    "collapsed": true
   },
   "outputs": [],
   "source": [
    "import pandas as pd\n",
    "from urllib.request import urlopen\n",
    "import requests\n",
    "from bs4 import BeautifulSoup\n",
    "from sklearn.model_selection import train_test_split\n",
    "import datetime as dt\n",
    "from PIL import Image\n",
    "from io import BytesIO"
   ]
  },
  {
   "cell_type": "code",
   "execution_count": 2,
   "metadata": {
    "collapsed": true
   },
   "outputs": [],
   "source": [
    "base_url = 'https://openi.nlm.nih.gov'"
   ]
  },
  {
   "cell_type": "markdown",
   "metadata": {},
   "source": [
    "&nbsp;&nbsp;&nbsp;&nbsp;&nbsp;We'll scrape for 5500 URLs each in queries for chest X-rays and microscope photos on [MedPix](https://medpix.nlm.nih.gov/home)."
   ]
  },
  {
   "cell_type": "code",
   "execution_count": 3,
   "metadata": {
    "collapsed": true
   },
   "outputs": [],
   "source": [
    "chestxray = ['coll=iu', 'chest']\n",
    "microscopy = ['it=mc', 'micro']"
   ]
  },
  {
   "cell_type": "code",
   "execution_count": 4,
   "metadata": {
    "collapsed": true
   },
   "outputs": [],
   "source": [
    "start = dt.datetime.now()\n",
    "print(start)\n",
    "\n",
    "big_list = []\n",
    "for which in [chestxray, microscopy]:\n",
    "    lil_list = []\n",
    "    for i in range(1, 5501):\n",
    "        url = base_url + '/retrieve.php?{}&m={}&n={}'.format(which[0], i, i)\n",
    "        try:\n",
    "            request = requests.get(url)\n",
    "            soup = BeautifulSoup(request.content, 'lxml')\n",
    "            for child in soup.findChildren('p'):\n",
    "                if 'imgLarge' in str(child):\n",
    "                    childlet = str(child).split('\\\"imgLarge\\\": \\\"')[1].split('\\\",')[0]\n",
    "                    lil_list.append(childlet)\n",
    "        except:\n",
    "            print(which[1], url)\n",
    "\n",
    "    (pd.DataFrame(lil_list, columns = [which[1]]))\\\n",
    "    .to_csv('other_assets/urls_{}.csv'.format(which[1]), index = False)\n",
    "\n",
    "print('done in: ', dt.datetime.now() - start)"
   ]
  },
  {
   "cell_type": "markdown",
   "metadata": {},
   "source": [
    "&nbsp;&nbsp;&nbsp;&nbsp;&nbsp;The following cell loads output of previous cell (which can be commented out after output written to file), then concatenates individual data frames and restricts new dataframe to non-null entries (5489 paths each)."
   ]
  },
  {
   "cell_type": "code",
   "execution_count": 20,
   "metadata": {},
   "outputs": [
    {
     "name": "stdout",
     "output_type": "stream",
     "text": [
      "5489\n"
     ]
    },
    {
     "data": {
      "text/html": [
       "<div>\n",
       "<style scoped>\n",
       "    .dataframe tbody tr th:only-of-type {\n",
       "        vertical-align: middle;\n",
       "    }\n",
       "\n",
       "    .dataframe tbody tr th {\n",
       "        vertical-align: top;\n",
       "    }\n",
       "\n",
       "    .dataframe thead th {\n",
       "        text-align: right;\n",
       "    }\n",
       "</style>\n",
       "<table border=\"1\" class=\"dataframe\">\n",
       "  <thead>\n",
       "    <tr style=\"text-align: right;\">\n",
       "      <th></th>\n",
       "      <th>micro</th>\n",
       "      <th>chest</th>\n",
       "    </tr>\n",
       "  </thead>\n",
       "  <tbody>\n",
       "    <tr>\n",
       "      <th>0</th>\n",
       "      <td>/imgs/512/230/1032/MPX1032_synpic23886.png</td>\n",
       "      <td>/imgs/512/10/10/CXR10_IM-0002-1001.png</td>\n",
       "    </tr>\n",
       "    <tr>\n",
       "      <th>1</th>\n",
       "      <td>/imgs/512/230/1032/MPX1032_synpic23887.png</td>\n",
       "      <td>/imgs/512/10/10/CXR10_IM-0002-2001.png</td>\n",
       "    </tr>\n",
       "    <tr>\n",
       "      <th>2</th>\n",
       "      <td>/imgs/512/230/1032/MPX1032_synpic23888.png</td>\n",
       "      <td>/imgs/512/1/1/CXR1_1_IM-0001-3001.png</td>\n",
       "    </tr>\n",
       "    <tr>\n",
       "      <th>3</th>\n",
       "      <td>/imgs/512/227/1029/MPX1029_synpic17373.png</td>\n",
       "      <td>/imgs/512/1/1/CXR1_1_IM-0001-4001.png</td>\n",
       "    </tr>\n",
       "    <tr>\n",
       "      <th>4</th>\n",
       "      <td>/imgs/512/227/1029/MPX1029_synpic17374.png</td>\n",
       "      <td>/imgs/512/199/1001/CXR1001_IM-0004-1001.png</td>\n",
       "    </tr>\n",
       "  </tbody>\n",
       "</table>\n",
       "</div>"
      ],
      "text/plain": [
       "                                        micro  \\\n",
       "0  /imgs/512/230/1032/MPX1032_synpic23886.png   \n",
       "1  /imgs/512/230/1032/MPX1032_synpic23887.png   \n",
       "2  /imgs/512/230/1032/MPX1032_synpic23888.png   \n",
       "3  /imgs/512/227/1029/MPX1029_synpic17373.png   \n",
       "4  /imgs/512/227/1029/MPX1029_synpic17374.png   \n",
       "\n",
       "                                         chest  \n",
       "0       /imgs/512/10/10/CXR10_IM-0002-1001.png  \n",
       "1       /imgs/512/10/10/CXR10_IM-0002-2001.png  \n",
       "2        /imgs/512/1/1/CXR1_1_IM-0001-3001.png  \n",
       "3        /imgs/512/1/1/CXR1_1_IM-0001-4001.png  \n",
       "4  /imgs/512/199/1001/CXR1001_IM-0004-1001.png  "
      ]
     },
     "execution_count": 20,
     "metadata": {},
     "output_type": "execute_result"
    }
   ],
   "source": [
    "urls_micro = pd.read_csv('other_assets/urls_micro.csv')\n",
    "urls_chest = pd.read_csv('other_assets/urls_chest.csv')\n",
    "\n",
    "urls = pd.concat([urls_micro, urls_chest], axis = 1)\n",
    "urls = urls[(pd.notnull(urls['micro'])) & (pd.notnull(urls['chest']))]\n",
    "\n",
    "print(len(urls))\n",
    "urls.head()"
   ]
  },
  {
   "cell_type": "code",
   "execution_count": 6,
   "metadata": {
    "collapsed": true
   },
   "outputs": [],
   "source": [
    "## split off ~500 for validation\n",
    "micro_big, micro_valid = train_test_split(urls['micro'], random_state = 421, test_size = 0.1)\n",
    "chest_big, chest_valid = train_test_split(urls['chest'], random_state = 365, test_size = 0.1)"
   ]
  },
  {
   "cell_type": "code",
   "execution_count": 7,
   "metadata": {
    "collapsed": true
   },
   "outputs": [],
   "source": [
    "micro_train, micro_test = train_test_split(micro_big, random_state = 421, test_size = 0.2)\n",
    "chest_train, chest_test = train_test_split(chest_big, random_state = 365, test_size = 0.2)"
   ]
  },
  {
   "cell_type": "code",
   "execution_count": 8,
   "metadata": {},
   "outputs": [
    {
     "name": "stdout",
     "output_type": "stream",
     "text": [
      "3952\n",
      "0    /imgs/512/334/4618651/PMC4618651_prp20003-e001...\n",
      "1    /imgs/512/22/4372526/PMC4372526_pone.0122753.g...\n",
      "Name: micro, dtype: object\n",
      "3952\n",
      "0    /imgs/512/368/3576/CXR3576_IM-1757-1001.png\n",
      "1      /imgs/512/314/314/CXR314_IM-1477-1001.png\n",
      "Name: chest, dtype: object\n",
      "988\n",
      "0    /imgs/512/387/4456700/PMC4456700_pma-48-01-229...\n",
      "1    /imgs/512/277/2174499/PMC2174499_1752-1947-1-1...\n",
      "Name: micro, dtype: object\n",
      "988\n",
      "0    /imgs/512/303/1506/CXR1506_IM-0330-2001.png\n",
      "1    /imgs/512/230/2636/CXR2636_IM-1121-2001.png\n",
      "Name: chest, dtype: object\n",
      "549\n",
      "0    /imgs/512/104/2192371/PMC2192371_JCB0009027.f1...\n",
      "1    /imgs/512/305/4546442/PMC4546442_oncotarget-06...\n",
      "Name: micro, dtype: object\n",
      "549\n",
      "0    /imgs/512/248/248/CXR248_IM-1008-85149003.png\n",
      "1       /imgs/512/46/1650/CXR1650_IM-0427-1001.png\n",
      "Name: chest, dtype: object\n"
     ]
    }
   ],
   "source": [
    "## reset indeces so we can iterate over index to get .png path extensions\n",
    "for df in [micro_train, chest_train, micro_test, chest_test, micro_valid, chest_valid]:\n",
    "    df.reset_index(drop = True, inplace = True)\n",
    "    print(len(df))\n",
    "    print(df.head(2))"
   ]
  },
  {
   "cell_type": "code",
   "execution_count": 9,
   "metadata": {
    "collapsed": true
   },
   "outputs": [],
   "source": [
    "def get_image_size(url):\n",
    "    data = requests.get(url).content\n",
    "    im = Image.open(BytesIO(data))\n",
    "    return im.size"
   ]
  },
  {
   "cell_type": "code",
   "execution_count": 11,
   "metadata": {},
   "outputs": [
    {
     "name": "stdout",
     "output_type": "stream",
     "text": [
      "2018-02-04 17:03:46.052292\n",
      "................\n",
      "SKIPPED (1592): https://openi.nlm.nih.gov/imgs/512/151/4308495/PMC4308495_pnga-60-192-g001.png\n",
      "..................\n",
      "SKIPPED (3338): https://openi.nlm.nih.gov/imgs/512/151/4308495/PMC4308495_pnga-60-192-g003.png\n",
      "......done:  0:12:07.633115\n",
      "failed: 2\n",
      "<function get_image_size at 0x7f95ac390d08>    3950\n",
      "Name: length, dtype: int64\n"
     ]
    }
   ],
   "source": [
    "start = dt.datetime.now()\n",
    "print(start)\n",
    "\n",
    "count = 0\n",
    "fail_count = 0\n",
    "for i in range(len(micro_train)):\n",
    "    href = base_url+micro_train[i]\n",
    "    path_extension = 'assets/training_set/micro/micro_{}.png'.format(i)\n",
    "    try:\n",
    "        get_image_size(href) ## this will fail if 404\n",
    "        with open(path_extension, 'wb') as f:\n",
    "            f.write(urlopen(href).read())\n",
    "    except:\n",
    "        print('\\nSKIPPED ({}): {}'.format(i, href), end = '\\n')\n",
    "        fail_count += 1\n",
    "    if count%100 == 0:\n",
    "        print('.', end = '')\n",
    "    count += 1\n",
    "\n",
    "print('\\n\\ndone: ', dt.datetime.now() - start)\n",
    "print('failed: {}'.format(fail_count))"
   ]
  },
  {
   "cell_type": "code",
   "execution_count": 15,
   "metadata": {},
   "outputs": [
    {
     "name": "stdout",
     "output_type": "stream",
     "text": [
      "2018-02-04 17:33:51.169611\n",
      "..........done:  0:03:00.759180\n",
      "failed: 0\n"
     ]
    }
   ],
   "source": [
    "start = dt.datetime.now()\n",
    "print(start)\n",
    "\n",
    "count = 0\n",
    "fail_count = 0\n",
    "for i in range(len(micro_test)):\n",
    "    href = base_url+micro_test[i]\n",
    "    path_extension = 'assets/testing_set/micro/micro_{}.png'.format(i)\n",
    "    try:\n",
    "        get_image_size(href) ## this will fail if 404\n",
    "        with open(path_extension, 'wb') as f:\n",
    "            f.write(urlopen(href).read())\n",
    "    except:\n",
    "        print('\\nSKIPPED ({}): {}'.format(i, href), end = '\\n')\n",
    "        fail_count += 1\n",
    "    if count%100 == 0:\n",
    "        print('.', end = '')\n",
    "    count += 1\n",
    "\n",
    "print('\\n\\ndone: ', dt.datetime.now() - start)\n",
    "print('failed: {}'.format(fail_count))"
   ]
  },
  {
   "cell_type": "code",
   "execution_count": 16,
   "metadata": {},
   "outputs": [
    {
     "name": "stdout",
     "output_type": "stream",
     "text": [
      "2018-02-04 17:39:08.786370\n",
      "......done:  0:01:40.570705\n",
      "failed: 0\n"
     ]
    }
   ],
   "source": [
    "start = dt.datetime.now()\n",
    "print(start)\n",
    "\n",
    "count = 0\n",
    "fail_count = 0\n",
    "for i in range(len(micro_valid)):\n",
    "    href = base_url+micro_valid[i]\n",
    "    path_extension = 'other_assets/validation_set/micro/micro_{}.png'.format(i)\n",
    "    try:\n",
    "        get_image_size(href) ## this will fail if 404\n",
    "        with open(path_extension, 'wb') as f:\n",
    "            f.write(urlopen(href).read())\n",
    "    except:\n",
    "        print('\\nSKIPPED ({}): {}'.format(i, href), end = '\\n')\n",
    "        fail_count += 1\n",
    "    if count%100 == 0:\n",
    "        print('.', end = '')\n",
    "    count += 1\n",
    "\n",
    "print('\\n\\ndone: ', dt.datetime.now() - start)\n",
    "print('failed: {}'.format(fail_count))"
   ]
  },
  {
   "cell_type": "code",
   "execution_count": 17,
   "metadata": {},
   "outputs": [
    {
     "name": "stdout",
     "output_type": "stream",
     "text": [
      "2018-02-04 17:40:49.382094\n",
      "........................................done:  0:11:21.057928\n",
      "failed: 0\n"
     ]
    }
   ],
   "source": [
    "start = dt.datetime.now()\n",
    "print(start)\n",
    "\n",
    "count = 0\n",
    "fail_count = 0\n",
    "for i in range(len(chest_train)):\n",
    "    href = base_url+chest_train[i]\n",
    "    path_extension = 'assets/training_set/chest/chest_{}.png'.format(i)\n",
    "    try:\n",
    "        get_image_size(href) # this will fail if 404\n",
    "        with open(path_extension, 'wb') as f:\n",
    "            f.write(urlopen(href).read())\n",
    "    except:\n",
    "        print('\\nSKIPPED ({}): {}'.format(i, href), end = '\\n')\n",
    "        fail_count += 1\n",
    "    if count%100 == 0:\n",
    "        print('.', end = '')\n",
    "    count += 1\n",
    "\n",
    "print('\\n\\ndone: ', dt.datetime.now() - start)\n",
    "print('failed: {}'.format(fail_count))"
   ]
  },
  {
   "cell_type": "code",
   "execution_count": 18,
   "metadata": {},
   "outputs": [
    {
     "name": "stdout",
     "output_type": "stream",
     "text": [
      "2018-02-04 17:52:10.467588\n",
      "..........done:  0:03:02.477866\n",
      "failed: 0\n"
     ]
    }
   ],
   "source": [
    "start = dt.datetime.now()\n",
    "print(start)\n",
    "\n",
    "count = 0\n",
    "fail_count = 0\n",
    "for i in range(len(chest_test)):\n",
    "    href = base_url+chest_test[i]\n",
    "    path_extension = 'assets/testing_set/chest/chest_{}.png'.format(i)\n",
    "    try:\n",
    "        get_image_size(href) ## this will fail if 404\n",
    "        with open(path_extension, 'wb') as f:\n",
    "            f.write(urlopen(href).read())\n",
    "    except:\n",
    "        print('\\nSKIPPED ({}): {}'.format(i, href), end = '\\n')\n",
    "        fail_count += 1\n",
    "    if count%100 == 0:\n",
    "        print('.', end = '')\n",
    "    count += 1\n",
    "\n",
    "print('\\n\\ndone: ', dt.datetime.now() - start)\n",
    "print('failed: {}'.format(fail_count))"
   ]
  },
  {
   "cell_type": "code",
   "execution_count": 19,
   "metadata": {},
   "outputs": [
    {
     "name": "stdout",
     "output_type": "stream",
     "text": [
      "2018-02-04 17:55:12.971227\n",
      "......done:  0:01:41.410375\n",
      "failed: 0\n"
     ]
    }
   ],
   "source": [
    "start = dt.datetime.now()\n",
    "print(start)\n",
    "\n",
    "count = 0\n",
    "fail_count = 0\n",
    "for i in range(len(chest_valid)):\n",
    "    href = base_url+chest_valid[i]\n",
    "    path_extension = 'other_assets/validation_set/chest/chest_{}.png'.format(i)\n",
    "    try:\n",
    "        get_image_size(href) ## this will fail if 404\n",
    "        with open(path_extension, 'wb') as f:\n",
    "            f.write(urlopen(href).read())\n",
    "    except:\n",
    "        print('\\nSKIPPED ({}): {}'.format(i, href), end = '\\n')\n",
    "        fail_count += 1\n",
    "    if count%100 == 0:\n",
    "        print('.', end = '')\n",
    "    count += 1\n",
    "\n",
    "print('\\n\\ndone: ', dt.datetime.now() - start)\n",
    "print('failed: {}'.format(fail_count))"
   ]
  }
 ],
 "metadata": {
  "kernelspec": {
   "display_name": "Python 3",
   "language": "python",
   "name": "python3"
  },
  "language_info": {
   "codemirror_mode": {
    "name": "ipython",
    "version": 3
   },
   "file_extension": ".py",
   "mimetype": "text/x-python",
   "name": "python",
   "nbconvert_exporter": "python",
   "pygments_lexer": "ipython3",
   "version": "3.6.1"
  }
 },
 "nbformat": 4,
 "nbformat_minor": 2
}
