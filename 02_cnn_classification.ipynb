{
 "cells": [
  {
   "cell_type": "code",
   "execution_count": 1,
   "metadata": {
    "collapsed": true
   },
   "outputs": [],
   "source": [
    "# !pip install tensorflow\n",
    "# !pip install keras\n",
    "# !pip uninstall numpy --yes\n",
    "# !pip install numpy --no-cache-dir"
   ]
  },
  {
   "cell_type": "code",
   "execution_count": 3,
   "metadata": {},
   "outputs": [
    {
     "name": "stderr",
     "output_type": "stream",
     "text": [
      "/home/developer/anaconda3/lib/python3.6/site-packages/h5py/__init__.py:34: FutureWarning: Conversion of the second argument of issubdtype from `float` to `np.floating` is deprecated. In future, it will be treated as `np.float64 == np.dtype(float).type`.\n",
      "  from ._conv import register_converters as _register_converters\n",
      "Using TensorFlow backend.\n"
     ]
    }
   ],
   "source": [
    "from keras.models import Sequential\n",
    "from keras.layers import Conv2D, MaxPooling2D, Flatten, Dense, Activation, Dropout\n",
    "from keras.preprocessing.image import ImageDataGenerator\n",
    "from keras.preprocessing import image\n",
    "import os\n",
    "import pandas as pd\n",
    "import numpy as np\n",
    "from sklearn.metrics import confusion_matrix, classification_report\n",
    "import matplotlib.pyplot as plt\n",
    "from matplotlib import patheffects as path_effects\n",
    "import six\n",
    "from six.moves import zip  # pylint: disable=redefined-builtin\n",
    "from six.moves import xrange  # pylint: disable=redefined-builtin\n",
    "\n",
    "%matplotlib inline"
   ]
  },
  {
   "cell_type": "markdown",
   "metadata": {},
   "source": [
    "### Instatiate"
   ]
  },
  {
   "cell_type": "code",
   "execution_count": 4,
   "metadata": {
    "collapsed": true
   },
   "outputs": [],
   "source": [
    "classifier = Sequential()\n",
    "\n",
    "classifier.add(Conv2D(32, (3, 3), input_shape = (64, 64, 3)))\n",
    "classifier.add(Activation('relu'))\n",
    "classifier.add(MaxPooling2D(pool_size = (2, 2)))\n",
    "classifier.add(Flatten())\n",
    "classifier.add(Dense(units = 64))\n",
    "classifier.add(Activation('relu'))\n",
    "classifier.add(Dropout(0.5))\n",
    "classifier.add(Dense(1))\n",
    "classifier.add(Activation('sigmoid'))\n",
    "\n",
    "classifier.compile(optimizer = 'rmsprop', loss = 'binary_crossentropy', metrics = ['accuracy'])"
   ]
  },
  {
   "cell_type": "markdown",
   "metadata": {},
   "source": [
    "### Preprocess"
   ]
  },
  {
   "cell_type": "code",
   "execution_count": 5,
   "metadata": {},
   "outputs": [
    {
     "name": "stdout",
     "output_type": "stream",
     "text": [
      "Found 7902 images belonging to 2 classes.\n",
      "Found 2196 images belonging to 2 classes.\n"
     ]
    }
   ],
   "source": [
    "train_datagen = ImageDataGenerator(\n",
    "    rescale = 1./255,\n",
    "    shear_range = 0.2,\n",
    "    zoom_range = 0.2,\n",
    "    horizontal_flip = True)\n",
    "\n",
    "test_datagen = ImageDataGenerator(rescale = 1./255)\n",
    "\n",
    "train_generator = train_datagen.flow_from_directory(\n",
    "    'assets/training_set',\n",
    "    target_size = (64, 64),\n",
    "    batch_size = 32,\n",
    "    seed = 421,\n",
    "    classes = ['micro', 'chest'],\n",
    "    class_mode = 'binary')\n",
    "\n",
    "test_generator = test_datagen.flow_from_directory(\n",
    "    'assets/testing_set',\n",
    "    target_size = (64, 64),\n",
    "    batch_size = 32,\n",
    "    seed = 421,\n",
    "    classes = ['micro', 'chest'],\n",
    "    class_mode = 'binary')"
   ]
  },
  {
   "cell_type": "markdown",
   "metadata": {},
   "source": [
    "### Build"
   ]
  },
  {
   "cell_type": "code",
   "execution_count": 6,
   "metadata": {},
   "outputs": [
    {
     "name": "stdout",
     "output_type": "stream",
     "text": [
      "Epoch 1/25\n",
      "526/526 [==============================] - 101s 192ms/step - loss: 0.1225 - acc: 0.9706 - val_loss: 0.0202 - val_acc: 0.9940\n",
      "Epoch 2/25\n",
      "526/526 [==============================] - 98s 187ms/step - loss: 0.0509 - acc: 0.9902 - val_loss: 0.0117 - val_acc: 0.9978\n",
      "Epoch 3/25\n",
      "526/526 [==============================] - 100s 190ms/step - loss: 0.0369 - acc: 0.9910 - val_loss: 0.0225 - val_acc: 0.9951\n",
      "Epoch 4/25\n",
      "526/526 [==============================] - 108s 205ms/step - loss: 0.0328 - acc: 0.9910 - val_loss: 0.0372 - val_acc: 0.9944\n",
      "Epoch 5/25\n",
      "526/526 [==============================] - 99s 188ms/step - loss: 0.0487 - acc: 0.9906 - val_loss: 0.0140 - val_acc: 0.9974\n",
      "Epoch 6/25\n",
      "526/526 [==============================] - 103s 195ms/step - loss: 0.0295 - acc: 0.9929 - val_loss: 0.0247 - val_acc: 0.9963\n",
      "Epoch 7/25\n",
      "526/526 [==============================] - 99s 188ms/step - loss: 0.0366 - acc: 0.9920 - val_loss: 0.0135 - val_acc: 0.9976\n",
      "Epoch 8/25\n",
      "526/526 [==============================] - 103s 195ms/step - loss: 0.0526 - acc: 0.9911 - val_loss: 0.0267 - val_acc: 0.9953\n",
      "Epoch 9/25\n",
      "526/526 [==============================] - 109s 207ms/step - loss: 0.0337 - acc: 0.9928 - val_loss: 0.0290 - val_acc: 0.9953\n",
      "Epoch 10/25\n",
      "526/526 [==============================] - 99s 188ms/step - loss: 0.0283 - acc: 0.9932 - val_loss: 0.0729 - val_acc: 0.9890\n",
      "Epoch 11/25\n",
      "526/526 [==============================] - 107s 203ms/step - loss: 0.0304 - acc: 0.9942 - val_loss: 0.0226 - val_acc: 0.9963\n",
      "Epoch 12/25\n",
      "526/526 [==============================] - 100s 190ms/step - loss: 0.0386 - acc: 0.9925 - val_loss: 0.0146 - val_acc: 0.9976\n",
      "Epoch 13/25\n",
      "526/526 [==============================] - 101s 192ms/step - loss: 0.0298 - acc: 0.9935 - val_loss: 0.0191 - val_acc: 0.9974\n",
      "Epoch 14/25\n",
      "526/526 [==============================] - 100s 190ms/step - loss: 0.0257 - acc: 0.9943 - val_loss: 0.0096 - val_acc: 0.9976\n",
      "Epoch 15/25\n",
      "526/526 [==============================] - 104s 198ms/step - loss: 0.0207 - acc: 0.9949 - val_loss: 0.0198 - val_acc: 0.9978\n",
      "Epoch 16/25\n",
      "526/526 [==============================] - 105s 200ms/step - loss: 0.0350 - acc: 0.9935 - val_loss: 0.0142 - val_acc: 0.9989\n",
      "Epoch 17/25\n",
      "526/526 [==============================] - 101s 192ms/step - loss: 0.0284 - acc: 0.9947 - val_loss: 0.0329 - val_acc: 0.9957\n",
      "Epoch 18/25\n",
      "526/526 [==============================] - 107s 204ms/step - loss: 0.0329 - acc: 0.9935 - val_loss: 0.0146 - val_acc: 0.9976\n",
      "Epoch 19/25\n",
      "526/526 [==============================] - 102s 194ms/step - loss: 0.0275 - acc: 0.9941 - val_loss: 0.0158 - val_acc: 0.9983\n",
      "Epoch 20/25\n",
      "526/526 [==============================] - 101s 192ms/step - loss: 0.0315 - acc: 0.9939 - val_loss: 0.0124 - val_acc: 0.9987\n",
      "Epoch 21/25\n",
      "526/526 [==============================] - 101s 192ms/step - loss: 0.0335 - acc: 0.9948 - val_loss: 0.0184 - val_acc: 0.9981\n",
      "Epoch 22/25\n",
      "526/526 [==============================] - 105s 199ms/step - loss: 0.0247 - acc: 0.9945 - val_loss: 0.0122 - val_acc: 0.9983\n",
      "Epoch 23/25\n",
      "526/526 [==============================] - 102s 194ms/step - loss: 0.0303 - acc: 0.9945 - val_loss: 0.0205 - val_acc: 0.9970\n",
      "Epoch 24/25\n",
      "526/526 [==============================] - 103s 196ms/step - loss: 0.0344 - acc: 0.9941 - val_loss: 0.0249 - val_acc: 0.9976\n",
      "Epoch 25/25\n",
      "526/526 [==============================] - 106s 201ms/step - loss: 0.0346 - acc: 0.9932 - val_loss: 0.0148 - val_acc: 0.9985\n"
     ]
    },
    {
     "data": {
      "text/plain": [
       "<keras.callbacks.History at 0x7f0177ac8cf8>"
      ]
     },
     "execution_count": 6,
     "metadata": {},
     "output_type": "execute_result"
    }
   ],
   "source": [
    "batch_size = 15\n",
    "\n",
    "classifier.fit_generator(\n",
    "    train_generator,\n",
    "    steps_per_epoch = 7902 // batch_size,\n",
    "    epochs = 25,\n",
    "    validation_data = test_generator,\n",
    "    validation_steps = 2196 // batch_size)"
   ]
  },
  {
   "cell_type": "markdown",
   "metadata": {},
   "source": [
    "### Validate"
   ]
  },
  {
   "cell_type": "code",
   "execution_count": 7,
   "metadata": {
    "collapsed": true
   },
   "outputs": [],
   "source": [
    "validation_df = pd.DataFrame(columns = ['y_actual', 'y_pred'])\n",
    "for which in ['micro', 'chest']:\n",
    "    y_pred = []\n",
    "    y_actual = []\n",
    "    folder = 'other_assets/validation_set/{}'.format(which)\n",
    "    for file in os.listdir(folder):\n",
    "        filepath = os.path.join(folder, file)\n",
    "        test_image = image.load_img(filepath, target_size = (64, 64))\n",
    "        test_image = image.img_to_array(test_image)\n",
    "        test_image = np.expand_dims(test_image, axis = 0)\n",
    "        result = classifier.predict(test_image)\n",
    "        if which == 'micro':\n",
    "            if result[0][0] == 1:\n",
    "                y_pred.append(1)     ## false positive\n",
    "                y_actual.append(0)\n",
    "            else:\n",
    "                y_pred.append(0)     ## true negative\n",
    "                y_actual.append(0)\n",
    "        elif which == 'chest':\n",
    "            if result[0][0] == 1:\n",
    "                y_pred.append(1)     ## true positive\n",
    "                y_actual.append(1)\n",
    "            else:\n",
    "                y_pred.append(0)     ## false negative\n",
    "                y_actual.append(1)\n",
    "    ys = pd.DataFrame(list(zip(y_actual, y_pred)), columns = ['y_actual', 'y_pred'])\n",
    "    validation_df = pd.concat([validation_df, ys], axis = 0)\n",
    "\n",
    "validation_df = validation_df.applymap(lambda x: int(x))"
   ]
  },
  {
   "cell_type": "markdown",
   "metadata": {},
   "source": [
    "### Classification report & confusion matrix"
   ]
  },
  {
   "cell_type": "code",
   "execution_count": 8,
   "metadata": {
    "collapsed": true
   },
   "outputs": [],
   "source": [
    "cm = confusion_matrix(validation_df['y_actual'].values, validation_df['y_pred'].values)"
   ]
  },
  {
   "cell_type": "code",
   "execution_count": 9,
   "metadata": {
    "collapsed": true
   },
   "outputs": [],
   "source": [
    "def plot_confusion_matrix(cm, title='Confusion matrix', labels=['Positive','Negative'], \\\n",
    "                          cmap=plt.cm.Blues):\n",
    "\n",
    "    plt.figure(figsize=(12,8))\n",
    "    plt.imshow(cm, interpolation='nearest', cmap=cmap)\n",
    "\n",
    "    plt.grid(b = False)\n",
    "\n",
    "    tick_marks = np.arange(2)\n",
    "    plt.xticks(tick_marks, labels, fontsize = 18)\n",
    "    plt.yticks(tick_marks, labels, rotation = 90, fontsize = 18)\n",
    "\n",
    "    plt.title(title, fontsize = 22)\n",
    "    plt.ylabel('True label', fontsize = 20)\n",
    "    plt.xlabel('Predicted label', fontsize = 20)\n",
    "    plt.tight_layout()\n",
    "\n",
    "    width, height = cm.shape\n",
    "\n",
    "    for x in xrange(width):\n",
    "        for y in xrange(height):\n",
    "            plt.annotate(str(cm[x][y]), xy=(y, x),\n",
    "                        horizontalalignment='center',\n",
    "                        verticalalignment='center',\n",
    "                        color = 'white',\n",
    "                        fontsize=40).set_path_effects([path_effects.Stroke(linewidth=1, \\\n",
    "                            foreground='black'), path_effects.Normal()])\n",
    "    return"
   ]
  },
  {
   "cell_type": "code",
   "execution_count": 10,
   "metadata": {},
   "outputs": [
    {
     "data": {
      "image/png": "[encoded data removed]",
      "text/plain": [
       "<matplotlib.figure.Figure at 0x7f01b52db5c0>"
      ]
     },
     "metadata": {},
     "output_type": "display_data"
    }
   ],
   "source": [
    "plot_confusion_matrix(\n",
    "    cm,\n",
    "    title = 'MedPix Image Classification: Confusion Matrix',\n",
    "    labels = ['chest x-ray', 'microscope'])"
   ]
  },
  {
   "cell_type": "code",
   "execution_count": 11,
   "metadata": {},
   "outputs": [
    {
     "name": "stdout",
     "output_type": "stream",
     "text": [
      "             precision    recall  f1-score   support\n",
      "\n",
      "          0       0.83      1.00      0.91       549\n",
      "          1       1.00      0.80      0.89       549\n",
      "\n",
      "avg / total       0.92      0.90      0.90      1098\n",
      "\n"
     ]
    }
   ],
   "source": [
    "print(classification_report(validation_df['y_actual'].values, validation_df['y_pred'].values))"
   ]
  },
  {
   "cell_type": "markdown",
   "metadata": {
    "collapsed": true
   },
   "source": [
    "ta-da :wave:"
   ]
  }
 ],
 "metadata": {
  "kernelspec": {
   "display_name": "Python 3",
   "language": "python",
   "name": "python3"
  },
  "language_info": {
   "codemirror_mode": {
    "name": "ipython",
    "version": 3
   },
   "file_extension": ".py",
   "mimetype": "text/x-python",
   "name": "python",
   "nbconvert_exporter": "python",
   "pygments_lexer": "ipython3",
   "version": "3.6.1"
  }
 },
 "nbformat": 4,
 "nbformat_minor": 2
}
